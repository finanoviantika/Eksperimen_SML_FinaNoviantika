{
  "cells": [
    {
      "cell_type": "markdown",
      "metadata": {
        "id": "kZLRMFl0JyyQ"
      },
      "source": [
        "# **1. Perkenalan Dataset**\n"
      ]
    },
    {
      "cell_type": "markdown",
      "metadata": {
        "id": "hssSDn-5n3HR"
      },
      "source": [
        "Tahap pertama, Anda harus mencari dan menggunakan dataset dengan ketentuan sebagai berikut:\n",
        "\n",
        "1. **Sumber Dataset**:  \n",
        "   Dataset dapat diperoleh dari berbagai sumber, seperti public repositories (*Kaggle*, *UCI ML Repository*, *Open Data*) atau data primer yang Anda kumpulkan sendiri.\n"
      ]
    },
    {
      "cell_type": "markdown",
      "metadata": {
        "id": "fKADPWcFKlj3"
      },
      "source": [
        "# **2. Import Library**"
      ]
    },
    {
      "cell_type": "markdown",
      "metadata": {
        "id": "LgA3ERnVn84N"
      },
      "source": [
        "Pada tahap ini, Anda perlu mengimpor beberapa pustaka (library) Python yang dibutuhkan untuk analisis data dan pembangunan model machine learning atau deep learning."
      ]
    },
    {
      "cell_type": "code",
      "execution_count": 1,
      "metadata": {
        "id": "BlmvjLY9M4Yj"
      },
      "outputs": [],
      "source": [
        "import pandas as pd\n",
        "from sklearn.preprocessing import StandardScaler, LabelEncoder\n",
        "import matplotlib.pyplot as plt\n",
        "from sklearn.model_selection import train_test_split\n",
        "from sklearn.metrics import mean_squared_error, r2_score\n",
        "import seaborn as sns"
      ]
    },
    {
      "cell_type": "markdown",
      "metadata": {
        "id": "f3YIEnAFKrKL"
      },
      "source": [
        "# **3. Memuat Dataset**"
      ]
    },
    {
      "cell_type": "markdown",
      "metadata": {
        "id": "Ey3ItwTen_7E"
      },
      "source": [
        "Pada tahap ini, Anda perlu memuat dataset ke dalam notebook. Jika dataset dalam format CSV, Anda bisa menggunakan pustaka pandas untuk membacanya. Pastikan untuk mengecek beberapa baris awal dataset untuk memahami strukturnya dan memastikan data telah dimuat dengan benar.\n",
        "\n",
        "Jika dataset berada di Google Drive, pastikan Anda menghubungkan Google Drive ke Colab terlebih dahulu. Setelah dataset berhasil dimuat, langkah berikutnya adalah memeriksa kesesuaian data dan siap untuk dianalisis lebih lanjut.\n",
        "\n",
        "Jika dataset berupa unstructured data, silakan sesuaikan dengan format seperti kelas Machine Learning Pengembangan atau Machine Learning Terapan"
      ]
    },
    {
      "cell_type": "code",
      "execution_count": 2,
      "metadata": {
        "id": "GHCGNTyrM5fS"
      },
      "outputs": [
        {
          "data": {
            "text/html": [
              "<div>\n",
              "<style scoped>\n",
              "    .dataframe tbody tr th:only-of-type {\n",
              "        vertical-align: middle;\n",
              "    }\n",
              "\n",
              "    .dataframe tbody tr th {\n",
              "        vertical-align: top;\n",
              "    }\n",
              "\n",
              "    .dataframe thead th {\n",
              "        text-align: right;\n",
              "    }\n",
              "</style>\n",
              "<table border=\"1\" class=\"dataframe\">\n",
              "  <thead>\n",
              "    <tr style=\"text-align: right;\">\n",
              "      <th></th>\n",
              "      <th>student_id</th>\n",
              "      <th>age</th>\n",
              "      <th>gender</th>\n",
              "      <th>study_hours_per_day</th>\n",
              "      <th>social_media_hours</th>\n",
              "      <th>netflix_hours</th>\n",
              "      <th>part_time_job</th>\n",
              "      <th>attendance_percentage</th>\n",
              "      <th>sleep_hours</th>\n",
              "      <th>diet_quality</th>\n",
              "      <th>exercise_frequency</th>\n",
              "      <th>parental_education_level</th>\n",
              "      <th>internet_quality</th>\n",
              "      <th>mental_health_rating</th>\n",
              "      <th>extracurricular_participation</th>\n",
              "      <th>exam_score</th>\n",
              "    </tr>\n",
              "  </thead>\n",
              "  <tbody>\n",
              "    <tr>\n",
              "      <th>0</th>\n",
              "      <td>S1000</td>\n",
              "      <td>23</td>\n",
              "      <td>Female</td>\n",
              "      <td>0.0</td>\n",
              "      <td>1.2</td>\n",
              "      <td>1.1</td>\n",
              "      <td>No</td>\n",
              "      <td>85.0</td>\n",
              "      <td>8.0</td>\n",
              "      <td>Fair</td>\n",
              "      <td>6</td>\n",
              "      <td>Master</td>\n",
              "      <td>Average</td>\n",
              "      <td>8</td>\n",
              "      <td>Yes</td>\n",
              "      <td>56.2</td>\n",
              "    </tr>\n",
              "    <tr>\n",
              "      <th>1</th>\n",
              "      <td>S1001</td>\n",
              "      <td>20</td>\n",
              "      <td>Female</td>\n",
              "      <td>6.9</td>\n",
              "      <td>2.8</td>\n",
              "      <td>2.3</td>\n",
              "      <td>No</td>\n",
              "      <td>97.3</td>\n",
              "      <td>4.6</td>\n",
              "      <td>Good</td>\n",
              "      <td>6</td>\n",
              "      <td>High School</td>\n",
              "      <td>Average</td>\n",
              "      <td>8</td>\n",
              "      <td>No</td>\n",
              "      <td>100.0</td>\n",
              "    </tr>\n",
              "    <tr>\n",
              "      <th>2</th>\n",
              "      <td>S1002</td>\n",
              "      <td>21</td>\n",
              "      <td>Male</td>\n",
              "      <td>1.4</td>\n",
              "      <td>3.1</td>\n",
              "      <td>1.3</td>\n",
              "      <td>No</td>\n",
              "      <td>94.8</td>\n",
              "      <td>8.0</td>\n",
              "      <td>Poor</td>\n",
              "      <td>1</td>\n",
              "      <td>High School</td>\n",
              "      <td>Poor</td>\n",
              "      <td>1</td>\n",
              "      <td>No</td>\n",
              "      <td>34.3</td>\n",
              "    </tr>\n",
              "    <tr>\n",
              "      <th>3</th>\n",
              "      <td>S1003</td>\n",
              "      <td>23</td>\n",
              "      <td>Female</td>\n",
              "      <td>1.0</td>\n",
              "      <td>3.9</td>\n",
              "      <td>1.0</td>\n",
              "      <td>No</td>\n",
              "      <td>71.0</td>\n",
              "      <td>9.2</td>\n",
              "      <td>Poor</td>\n",
              "      <td>4</td>\n",
              "      <td>Master</td>\n",
              "      <td>Good</td>\n",
              "      <td>1</td>\n",
              "      <td>Yes</td>\n",
              "      <td>26.8</td>\n",
              "    </tr>\n",
              "    <tr>\n",
              "      <th>4</th>\n",
              "      <td>S1004</td>\n",
              "      <td>19</td>\n",
              "      <td>Female</td>\n",
              "      <td>5.0</td>\n",
              "      <td>4.4</td>\n",
              "      <td>0.5</td>\n",
              "      <td>No</td>\n",
              "      <td>90.9</td>\n",
              "      <td>4.9</td>\n",
              "      <td>Fair</td>\n",
              "      <td>3</td>\n",
              "      <td>Master</td>\n",
              "      <td>Good</td>\n",
              "      <td>1</td>\n",
              "      <td>No</td>\n",
              "      <td>66.4</td>\n",
              "    </tr>\n",
              "  </tbody>\n",
              "</table>\n",
              "</div>"
            ],
            "text/plain": [
              "  student_id  age  gender  study_hours_per_day  social_media_hours  \\\n",
              "0      S1000   23  Female                  0.0                 1.2   \n",
              "1      S1001   20  Female                  6.9                 2.8   \n",
              "2      S1002   21    Male                  1.4                 3.1   \n",
              "3      S1003   23  Female                  1.0                 3.9   \n",
              "4      S1004   19  Female                  5.0                 4.4   \n",
              "\n",
              "   netflix_hours part_time_job  attendance_percentage  sleep_hours  \\\n",
              "0            1.1            No                   85.0          8.0   \n",
              "1            2.3            No                   97.3          4.6   \n",
              "2            1.3            No                   94.8          8.0   \n",
              "3            1.0            No                   71.0          9.2   \n",
              "4            0.5            No                   90.9          4.9   \n",
              "\n",
              "  diet_quality  exercise_frequency parental_education_level internet_quality  \\\n",
              "0         Fair                   6                   Master          Average   \n",
              "1         Good                   6              High School          Average   \n",
              "2         Poor                   1              High School             Poor   \n",
              "3         Poor                   4                   Master             Good   \n",
              "4         Fair                   3                   Master             Good   \n",
              "\n",
              "   mental_health_rating extracurricular_participation  exam_score  \n",
              "0                     8                           Yes        56.2  \n",
              "1                     8                            No       100.0  \n",
              "2                     1                            No        34.3  \n",
              "3                     1                           Yes        26.8  \n",
              "4                     1                            No        66.4  "
            ]
          },
          "execution_count": 2,
          "metadata": {},
          "output_type": "execute_result"
        }
      ],
      "source": [
        "data = pd.read_csv(\"student_habits_performance.csv\")\n",
        "data = pd.DataFrame(data)\n",
        "data.head()"
      ]
    },
    {
      "cell_type": "markdown",
      "metadata": {
        "id": "bgZkbJLpK9UR"
      },
      "source": [
        "# **4. Exploratory Data Analysis (EDA)**\n",
        "\n",
        "Pada tahap ini, Anda akan melakukan **Exploratory Data Analysis (EDA)** untuk memahami karakteristik dataset.\n",
        "\n",
        "Tujuan dari EDA adalah untuk memperoleh wawasan awal yang mendalam mengenai data dan menentukan langkah selanjutnya dalam analisis atau pemodelan."
      ]
    },
    {
      "cell_type": "code",
      "execution_count": 3,
      "metadata": {
        "id": "dKeejtvxM6X1"
      },
      "outputs": [
        {
          "name": "stdout",
          "output_type": "stream",
          "text": [
            "<class 'pandas.core.frame.DataFrame'>\n",
            "RangeIndex: 1000 entries, 0 to 999\n",
            "Data columns (total 16 columns):\n",
            " #   Column                         Non-Null Count  Dtype  \n",
            "---  ------                         --------------  -----  \n",
            " 0   student_id                     1000 non-null   object \n",
            " 1   age                            1000 non-null   int64  \n",
            " 2   gender                         1000 non-null   object \n",
            " 3   study_hours_per_day            1000 non-null   float64\n",
            " 4   social_media_hours             1000 non-null   float64\n",
            " 5   netflix_hours                  1000 non-null   float64\n",
            " 6   part_time_job                  1000 non-null   object \n",
            " 7   attendance_percentage          1000 non-null   float64\n",
            " 8   sleep_hours                    1000 non-null   float64\n",
            " 9   diet_quality                   1000 non-null   object \n",
            " 10  exercise_frequency             1000 non-null   int64  \n",
            " 11  parental_education_level       909 non-null    object \n",
            " 12  internet_quality               1000 non-null   object \n",
            " 13  mental_health_rating           1000 non-null   int64  \n",
            " 14  extracurricular_participation  1000 non-null   object \n",
            " 15  exam_score                     1000 non-null   float64\n",
            "dtypes: float64(6), int64(3), object(7)\n",
            "memory usage: 125.1+ KB\n"
          ]
        }
      ],
      "source": [
        "# Cek informasi dataset\n",
        "data.info()"
      ]
    },
    {
      "cell_type": "code",
      "execution_count": 4,
      "metadata": {},
      "outputs": [
        {
          "data": {
            "text/html": [
              "<div>\n",
              "<style scoped>\n",
              "    .dataframe tbody tr th:only-of-type {\n",
              "        vertical-align: middle;\n",
              "    }\n",
              "\n",
              "    .dataframe tbody tr th {\n",
              "        vertical-align: top;\n",
              "    }\n",
              "\n",
              "    .dataframe thead th {\n",
              "        text-align: right;\n",
              "    }\n",
              "</style>\n",
              "<table border=\"1\" class=\"dataframe\">\n",
              "  <thead>\n",
              "    <tr style=\"text-align: right;\">\n",
              "      <th></th>\n",
              "      <th>age</th>\n",
              "      <th>study_hours_per_day</th>\n",
              "      <th>social_media_hours</th>\n",
              "      <th>netflix_hours</th>\n",
              "      <th>attendance_percentage</th>\n",
              "      <th>sleep_hours</th>\n",
              "      <th>exercise_frequency</th>\n",
              "      <th>mental_health_rating</th>\n",
              "      <th>exam_score</th>\n",
              "    </tr>\n",
              "  </thead>\n",
              "  <tbody>\n",
              "    <tr>\n",
              "      <th>count</th>\n",
              "      <td>1000.0000</td>\n",
              "      <td>1000.00000</td>\n",
              "      <td>1000.000000</td>\n",
              "      <td>1000.000000</td>\n",
              "      <td>1000.000000</td>\n",
              "      <td>1000.000000</td>\n",
              "      <td>1000.000000</td>\n",
              "      <td>1000.000000</td>\n",
              "      <td>1000.000000</td>\n",
              "    </tr>\n",
              "    <tr>\n",
              "      <th>mean</th>\n",
              "      <td>20.4980</td>\n",
              "      <td>3.55010</td>\n",
              "      <td>2.505500</td>\n",
              "      <td>1.819700</td>\n",
              "      <td>84.131700</td>\n",
              "      <td>6.470100</td>\n",
              "      <td>3.042000</td>\n",
              "      <td>5.438000</td>\n",
              "      <td>69.601500</td>\n",
              "    </tr>\n",
              "    <tr>\n",
              "      <th>std</th>\n",
              "      <td>2.3081</td>\n",
              "      <td>1.46889</td>\n",
              "      <td>1.172422</td>\n",
              "      <td>1.075118</td>\n",
              "      <td>9.399246</td>\n",
              "      <td>1.226377</td>\n",
              "      <td>2.025423</td>\n",
              "      <td>2.847501</td>\n",
              "      <td>16.888564</td>\n",
              "    </tr>\n",
              "    <tr>\n",
              "      <th>min</th>\n",
              "      <td>17.0000</td>\n",
              "      <td>0.00000</td>\n",
              "      <td>0.000000</td>\n",
              "      <td>0.000000</td>\n",
              "      <td>56.000000</td>\n",
              "      <td>3.200000</td>\n",
              "      <td>0.000000</td>\n",
              "      <td>1.000000</td>\n",
              "      <td>18.400000</td>\n",
              "    </tr>\n",
              "    <tr>\n",
              "      <th>25%</th>\n",
              "      <td>18.7500</td>\n",
              "      <td>2.60000</td>\n",
              "      <td>1.700000</td>\n",
              "      <td>1.000000</td>\n",
              "      <td>78.000000</td>\n",
              "      <td>5.600000</td>\n",
              "      <td>1.000000</td>\n",
              "      <td>3.000000</td>\n",
              "      <td>58.475000</td>\n",
              "    </tr>\n",
              "    <tr>\n",
              "      <th>50%</th>\n",
              "      <td>20.0000</td>\n",
              "      <td>3.50000</td>\n",
              "      <td>2.500000</td>\n",
              "      <td>1.800000</td>\n",
              "      <td>84.400000</td>\n",
              "      <td>6.500000</td>\n",
              "      <td>3.000000</td>\n",
              "      <td>5.000000</td>\n",
              "      <td>70.500000</td>\n",
              "    </tr>\n",
              "    <tr>\n",
              "      <th>75%</th>\n",
              "      <td>23.0000</td>\n",
              "      <td>4.50000</td>\n",
              "      <td>3.300000</td>\n",
              "      <td>2.525000</td>\n",
              "      <td>91.025000</td>\n",
              "      <td>7.300000</td>\n",
              "      <td>5.000000</td>\n",
              "      <td>8.000000</td>\n",
              "      <td>81.325000</td>\n",
              "    </tr>\n",
              "    <tr>\n",
              "      <th>max</th>\n",
              "      <td>24.0000</td>\n",
              "      <td>8.30000</td>\n",
              "      <td>7.200000</td>\n",
              "      <td>5.400000</td>\n",
              "      <td>100.000000</td>\n",
              "      <td>10.000000</td>\n",
              "      <td>6.000000</td>\n",
              "      <td>10.000000</td>\n",
              "      <td>100.000000</td>\n",
              "    </tr>\n",
              "  </tbody>\n",
              "</table>\n",
              "</div>"
            ],
            "text/plain": [
              "             age  study_hours_per_day  social_media_hours  netflix_hours  \\\n",
              "count  1000.0000           1000.00000         1000.000000    1000.000000   \n",
              "mean     20.4980              3.55010            2.505500       1.819700   \n",
              "std       2.3081              1.46889            1.172422       1.075118   \n",
              "min      17.0000              0.00000            0.000000       0.000000   \n",
              "25%      18.7500              2.60000            1.700000       1.000000   \n",
              "50%      20.0000              3.50000            2.500000       1.800000   \n",
              "75%      23.0000              4.50000            3.300000       2.525000   \n",
              "max      24.0000              8.30000            7.200000       5.400000   \n",
              "\n",
              "       attendance_percentage  sleep_hours  exercise_frequency  \\\n",
              "count            1000.000000  1000.000000         1000.000000   \n",
              "mean               84.131700     6.470100            3.042000   \n",
              "std                 9.399246     1.226377            2.025423   \n",
              "min                56.000000     3.200000            0.000000   \n",
              "25%                78.000000     5.600000            1.000000   \n",
              "50%                84.400000     6.500000            3.000000   \n",
              "75%                91.025000     7.300000            5.000000   \n",
              "max               100.000000    10.000000            6.000000   \n",
              "\n",
              "       mental_health_rating   exam_score  \n",
              "count           1000.000000  1000.000000  \n",
              "mean               5.438000    69.601500  \n",
              "std                2.847501    16.888564  \n",
              "min                1.000000    18.400000  \n",
              "25%                3.000000    58.475000  \n",
              "50%                5.000000    70.500000  \n",
              "75%                8.000000    81.325000  \n",
              "max               10.000000   100.000000  "
            ]
          },
          "execution_count": 4,
          "metadata": {},
          "output_type": "execute_result"
        }
      ],
      "source": [
        "# Cek statistik data numerik\n",
        "data.describe()"
      ]
    },
    {
      "cell_type": "code",
      "execution_count": 5,
      "metadata": {},
      "outputs": [
        {
          "data": {
            "text/html": [
              "<div>\n",
              "<style scoped>\n",
              "    .dataframe tbody tr th:only-of-type {\n",
              "        vertical-align: middle;\n",
              "    }\n",
              "\n",
              "    .dataframe tbody tr th {\n",
              "        vertical-align: top;\n",
              "    }\n",
              "\n",
              "    .dataframe thead th {\n",
              "        text-align: right;\n",
              "    }\n",
              "</style>\n",
              "<table border=\"1\" class=\"dataframe\">\n",
              "  <thead>\n",
              "    <tr style=\"text-align: right;\">\n",
              "      <th></th>\n",
              "      <th>student_id</th>\n",
              "      <th>gender</th>\n",
              "      <th>part_time_job</th>\n",
              "      <th>diet_quality</th>\n",
              "      <th>parental_education_level</th>\n",
              "      <th>internet_quality</th>\n",
              "      <th>extracurricular_participation</th>\n",
              "    </tr>\n",
              "  </thead>\n",
              "  <tbody>\n",
              "    <tr>\n",
              "      <th>count</th>\n",
              "      <td>1000</td>\n",
              "      <td>1000</td>\n",
              "      <td>1000</td>\n",
              "      <td>1000</td>\n",
              "      <td>909</td>\n",
              "      <td>1000</td>\n",
              "      <td>1000</td>\n",
              "    </tr>\n",
              "    <tr>\n",
              "      <th>unique</th>\n",
              "      <td>1000</td>\n",
              "      <td>3</td>\n",
              "      <td>2</td>\n",
              "      <td>3</td>\n",
              "      <td>3</td>\n",
              "      <td>3</td>\n",
              "      <td>2</td>\n",
              "    </tr>\n",
              "    <tr>\n",
              "      <th>top</th>\n",
              "      <td>S1000</td>\n",
              "      <td>Female</td>\n",
              "      <td>No</td>\n",
              "      <td>Fair</td>\n",
              "      <td>High School</td>\n",
              "      <td>Good</td>\n",
              "      <td>No</td>\n",
              "    </tr>\n",
              "    <tr>\n",
              "      <th>freq</th>\n",
              "      <td>1</td>\n",
              "      <td>481</td>\n",
              "      <td>785</td>\n",
              "      <td>437</td>\n",
              "      <td>392</td>\n",
              "      <td>447</td>\n",
              "      <td>682</td>\n",
              "    </tr>\n",
              "  </tbody>\n",
              "</table>\n",
              "</div>"
            ],
            "text/plain": [
              "       student_id  gender part_time_job diet_quality parental_education_level  \\\n",
              "count        1000    1000          1000         1000                      909   \n",
              "unique       1000       3             2            3                        3   \n",
              "top         S1000  Female            No         Fair              High School   \n",
              "freq            1     481           785          437                      392   \n",
              "\n",
              "       internet_quality extracurricular_participation  \n",
              "count              1000                          1000  \n",
              "unique                3                             2  \n",
              "top                Good                            No  \n",
              "freq                447                           682  "
            ]
          },
          "execution_count": 5,
          "metadata": {},
          "output_type": "execute_result"
        }
      ],
      "source": [
        "# Cek statistik data kategorikal\n",
        "data.describe(include=\"object\")"
      ]
    },
    {
      "cell_type": "markdown",
      "metadata": {
        "id": "cpgHfgnSK3ip"
      },
      "source": [
        "# **5. Data Preprocessing**"
      ]
    },
    {
      "cell_type": "markdown",
      "metadata": {
        "id": "COf8KUPXLg5r"
      },
      "source": [
        "Pada tahap ini, data preprocessing adalah langkah penting untuk memastikan kualitas data sebelum digunakan dalam model machine learning.\n",
        "\n",
        "Jika Anda menggunakan data teks, data mentah sering kali mengandung nilai kosong, duplikasi, atau rentang nilai yang tidak konsisten, yang dapat memengaruhi kinerja model. Oleh karena itu, proses ini bertujuan untuk membersihkan dan mempersiapkan data agar analisis berjalan optimal.\n",
        "\n",
        "Berikut adalah tahapan-tahapan yang bisa dilakukan, tetapi **tidak terbatas** pada:\n",
        "1. Menghapus atau Menangani Data Kosong (Missing Values)\n",
        "2. Menghapus Data Duplikat\n",
        "3. Normalisasi atau Standarisasi Fitur\n",
        "4. Deteksi dan Penanganan Outlier\n",
        "5. Encoding Data Kategorikal\n",
        "6. Binning (Pengelompokan Data)\n",
        "\n",
        "Cukup sesuaikan dengan karakteristik data yang kamu gunakan yah. Khususnya ketika kami menggunakan data tidak terstruktur."
      ]
    },
    {
      "cell_type": "code",
      "execution_count": 6,
      "metadata": {
        "id": "Og8pGV0-iDLz"
      },
      "outputs": [
        {
          "data": {
            "text/plain": [
              "student_id                       0\n",
              "age                              0\n",
              "gender                           0\n",
              "study_hours_per_day              0\n",
              "social_media_hours               0\n",
              "netflix_hours                    0\n",
              "part_time_job                    0\n",
              "attendance_percentage            0\n",
              "sleep_hours                      0\n",
              "diet_quality                     0\n",
              "exercise_frequency               0\n",
              "parental_education_level         0\n",
              "internet_quality                 0\n",
              "mental_health_rating             0\n",
              "extracurricular_participation    0\n",
              "exam_score                       0\n",
              "dtype: int64"
            ]
          },
          "execution_count": 6,
          "metadata": {},
          "output_type": "execute_result"
        }
      ],
      "source": [
        "# Menangani missing values pada kolom \"parental_education_level\"\n",
        "data['parental_education_level'] = data['parental_education_level'].fillna(data['parental_education_level'].mode()[0])\n",
        "\n",
        "data.isna().sum()"
      ]
    },
    {
      "cell_type": "code",
      "execution_count": 7,
      "metadata": {},
      "outputs": [
        {
          "data": {
            "text/plain": [
              "0"
            ]
          },
          "execution_count": 7,
          "metadata": {},
          "output_type": "execute_result"
        }
      ],
      "source": [
        "# Mengecek data duplikat\n",
        "data.duplicated().sum()"
      ]
    },
    {
      "cell_type": "code",
      "execution_count": 8,
      "metadata": {},
      "outputs": [
        {
          "name": "stdout",
          "output_type": "stream",
          "text": [
            "Index(['age', 'gender', 'study_hours_per_day', 'social_media_hours',\n",
            "       'netflix_hours', 'part_time_job', 'attendance_percentage',\n",
            "       'sleep_hours', 'diet_quality', 'exercise_frequency',\n",
            "       'parental_education_level', 'internet_quality', 'mental_health_rating',\n",
            "       'extracurricular_participation', 'exam_score'],\n",
            "      dtype='object')\n"
          ]
        }
      ],
      "source": [
        "# Hapus data \"id\"\n",
        "data.drop('student_id', axis=1, inplace=True)\n",
        "\n",
        "print(data.columns)"
      ]
    },
    {
      "cell_type": "code",
      "execution_count": 9,
      "metadata": {},
      "outputs": [
        {
          "name": "stdout",
          "output_type": "stream",
          "text": [
            "Kolom data Numerik: \n",
            " Index(['age', 'study_hours_per_day', 'social_media_hours', 'netflix_hours',\n",
            "       'attendance_percentage', 'sleep_hours', 'exercise_frequency',\n",
            "       'mental_health_rating', 'exam_score'],\n",
            "      dtype='object') \n",
            "\n",
            "Kolom data Kategorikal: \n",
            " Index(['gender', 'part_time_job', 'diet_quality', 'parental_education_level',\n",
            "       'internet_quality', 'extracurricular_participation'],\n",
            "      dtype='object')\n"
          ]
        }
      ],
      "source": [
        "# data numerik\n",
        "num_col = data.select_dtypes(include='number').columns\n",
        "print(\"Kolom data Numerik: \\n\", num_col, \"\\n\")\n",
        "\n",
        "# data kategorikal\n",
        "cat_col = data.select_dtypes(include='object').columns\n",
        "print(\"Kolom data Kategorikal: \\n\", cat_col)"
      ]
    },
    {
      "cell_type": "code",
      "execution_count": 10,
      "metadata": {},
      "outputs": [
        {
          "data": {
            "image/png": "[encoded data removed]",
            "text/plain": [
              "<Figure size 864x864 with 9 Axes>"
            ]
          },
          "metadata": {
            "needs_background": "light"
          },
          "output_type": "display_data"
        }
      ],
      "source": [
        "# Visualisasi data Numerik\n",
        "plt.figure(figsize=(12,12))\n",
        "for i in range(9):\n",
        "    plt.subplot(3, 3, i+1)\n",
        "    plt.hist(data[num_col[i]], bins=20, edgecolor='black')\n",
        "    plt.title(f'Distribusi dari \"{num_col[i]}\"')\n",
        "\n",
        "plt.tight_layout()\n",
        "plt.show()"
      ]
    },
    {
      "cell_type": "code",
      "execution_count": 11,
      "metadata": {},
      "outputs": [
        {
          "data": {
            "image/png": "[encoded data removed]",
            "text/plain": [
              "<Figure size 720x432 with 6 Axes>"
            ]
          },
          "metadata": {
            "needs_background": "light"
          },
          "output_type": "display_data"
        }
      ],
      "source": [
        "# Visualisasi data kategorikal\n",
        "plt.figure(figsize=(10,6))\n",
        "for i in range(6):\n",
        "    plt.subplot(2, 3, i+1)\n",
        "    plt.hist(data[cat_col[i]], color='skyblue', edgecolor='black')\n",
        "    plt.title(f\"Distribusi dari '{cat_col[i]}'\")\n",
        "\n",
        "plt.tight_layout()\n",
        "plt.show()"
      ]
    },
    {
      "cell_type": "markdown",
      "metadata": {},
      "source": [
        "One Hot Encoding dan Label Encoding"
      ]
    },
    {
      "cell_type": "code",
      "execution_count": 12,
      "metadata": {},
      "outputs": [
        {
          "data": {
            "text/html": [
              "<div>\n",
              "<style scoped>\n",
              "    .dataframe tbody tr th:only-of-type {\n",
              "        vertical-align: middle;\n",
              "    }\n",
              "\n",
              "    .dataframe tbody tr th {\n",
              "        vertical-align: top;\n",
              "    }\n",
              "\n",
              "    .dataframe thead th {\n",
              "        text-align: right;\n",
              "    }\n",
              "</style>\n",
              "<table border=\"1\" class=\"dataframe\">\n",
              "  <thead>\n",
              "    <tr style=\"text-align: right;\">\n",
              "      <th></th>\n",
              "      <th>age</th>\n",
              "      <th>gender</th>\n",
              "      <th>study_hours_per_day</th>\n",
              "      <th>social_media_hours</th>\n",
              "      <th>netflix_hours</th>\n",
              "      <th>part_time_job</th>\n",
              "      <th>attendance_percentage</th>\n",
              "      <th>sleep_hours</th>\n",
              "      <th>diet_quality</th>\n",
              "      <th>exercise_frequency</th>\n",
              "      <th>parental_education_level</th>\n",
              "      <th>internet_quality</th>\n",
              "      <th>mental_health_rating</th>\n",
              "      <th>extracurricular_participation</th>\n",
              "      <th>exam_score</th>\n",
              "    </tr>\n",
              "  </thead>\n",
              "  <tbody>\n",
              "    <tr>\n",
              "      <th>0</th>\n",
              "      <td>23</td>\n",
              "      <td>Female</td>\n",
              "      <td>0.0</td>\n",
              "      <td>1.2</td>\n",
              "      <td>1.1</td>\n",
              "      <td>No</td>\n",
              "      <td>85.0</td>\n",
              "      <td>8.0</td>\n",
              "      <td>Fair</td>\n",
              "      <td>6</td>\n",
              "      <td>Master</td>\n",
              "      <td>Average</td>\n",
              "      <td>8</td>\n",
              "      <td>Yes</td>\n",
              "      <td>56.2</td>\n",
              "    </tr>\n",
              "    <tr>\n",
              "      <th>1</th>\n",
              "      <td>20</td>\n",
              "      <td>Female</td>\n",
              "      <td>6.9</td>\n",
              "      <td>2.8</td>\n",
              "      <td>2.3</td>\n",
              "      <td>No</td>\n",
              "      <td>97.3</td>\n",
              "      <td>4.6</td>\n",
              "      <td>Good</td>\n",
              "      <td>6</td>\n",
              "      <td>High School</td>\n",
              "      <td>Average</td>\n",
              "      <td>8</td>\n",
              "      <td>No</td>\n",
              "      <td>100.0</td>\n",
              "    </tr>\n",
              "    <tr>\n",
              "      <th>2</th>\n",
              "      <td>21</td>\n",
              "      <td>Male</td>\n",
              "      <td>1.4</td>\n",
              "      <td>3.1</td>\n",
              "      <td>1.3</td>\n",
              "      <td>No</td>\n",
              "      <td>94.8</td>\n",
              "      <td>8.0</td>\n",
              "      <td>Poor</td>\n",
              "      <td>1</td>\n",
              "      <td>High School</td>\n",
              "      <td>Poor</td>\n",
              "      <td>1</td>\n",
              "      <td>No</td>\n",
              "      <td>34.3</td>\n",
              "    </tr>\n",
              "    <tr>\n",
              "      <th>3</th>\n",
              "      <td>23</td>\n",
              "      <td>Female</td>\n",
              "      <td>1.0</td>\n",
              "      <td>3.9</td>\n",
              "      <td>1.0</td>\n",
              "      <td>No</td>\n",
              "      <td>71.0</td>\n",
              "      <td>9.2</td>\n",
              "      <td>Poor</td>\n",
              "      <td>4</td>\n",
              "      <td>Master</td>\n",
              "      <td>Good</td>\n",
              "      <td>1</td>\n",
              "      <td>Yes</td>\n",
              "      <td>26.8</td>\n",
              "    </tr>\n",
              "    <tr>\n",
              "      <th>4</th>\n",
              "      <td>19</td>\n",
              "      <td>Female</td>\n",
              "      <td>5.0</td>\n",
              "      <td>4.4</td>\n",
              "      <td>0.5</td>\n",
              "      <td>No</td>\n",
              "      <td>90.9</td>\n",
              "      <td>4.9</td>\n",
              "      <td>Fair</td>\n",
              "      <td>3</td>\n",
              "      <td>Master</td>\n",
              "      <td>Good</td>\n",
              "      <td>1</td>\n",
              "      <td>No</td>\n",
              "      <td>66.4</td>\n",
              "    </tr>\n",
              "  </tbody>\n",
              "</table>\n",
              "</div>"
            ],
            "text/plain": [
              "   age  gender  study_hours_per_day  social_media_hours  netflix_hours  \\\n",
              "0   23  Female                  0.0                 1.2            1.1   \n",
              "1   20  Female                  6.9                 2.8            2.3   \n",
              "2   21    Male                  1.4                 3.1            1.3   \n",
              "3   23  Female                  1.0                 3.9            1.0   \n",
              "4   19  Female                  5.0                 4.4            0.5   \n",
              "\n",
              "  part_time_job  attendance_percentage  sleep_hours diet_quality  \\\n",
              "0            No                   85.0          8.0         Fair   \n",
              "1            No                   97.3          4.6         Good   \n",
              "2            No                   94.8          8.0         Poor   \n",
              "3            No                   71.0          9.2         Poor   \n",
              "4            No                   90.9          4.9         Fair   \n",
              "\n",
              "   exercise_frequency parental_education_level internet_quality  \\\n",
              "0                   6                   Master          Average   \n",
              "1                   6              High School          Average   \n",
              "2                   1              High School             Poor   \n",
              "3                   4                   Master             Good   \n",
              "4                   3                   Master             Good   \n",
              "\n",
              "   mental_health_rating extracurricular_participation  exam_score  \n",
              "0                     8                           Yes        56.2  \n",
              "1                     8                            No       100.0  \n",
              "2                     1                            No        34.3  \n",
              "3                     1                           Yes        26.8  \n",
              "4                     1                            No        66.4  "
            ]
          },
          "execution_count": 12,
          "metadata": {},
          "output_type": "execute_result"
        }
      ],
      "source": [
        "data2 = data.copy()\n",
        "data2.head()"
      ]
    },
    {
      "cell_type": "code",
      "execution_count": 13,
      "metadata": {},
      "outputs": [
        {
          "name": "stdout",
          "output_type": "stream",
          "text": [
            "<class 'pandas.core.frame.DataFrame'>\n",
            "RangeIndex: 1000 entries, 0 to 999\n",
            "Data columns (total 15 columns):\n",
            " #   Column                         Non-Null Count  Dtype  \n",
            "---  ------                         --------------  -----  \n",
            " 0   age                            1000 non-null   int64  \n",
            " 1   gender                         1000 non-null   object \n",
            " 2   study_hours_per_day            1000 non-null   float64\n",
            " 3   social_media_hours             1000 non-null   float64\n",
            " 4   netflix_hours                  1000 non-null   float64\n",
            " 5   part_time_job                  1000 non-null   object \n",
            " 6   attendance_percentage          1000 non-null   float64\n",
            " 7   sleep_hours                    1000 non-null   float64\n",
            " 8   diet_quality                   1000 non-null   object \n",
            " 9   exercise_frequency             1000 non-null   int64  \n",
            " 10  parental_education_level       1000 non-null   object \n",
            " 11  internet_quality               1000 non-null   object \n",
            " 12  mental_health_rating           1000 non-null   int64  \n",
            " 13  extracurricular_participation  1000 non-null   object \n",
            " 14  exam_score                     1000 non-null   float64\n",
            "dtypes: float64(6), int64(3), object(6)\n",
            "memory usage: 117.3+ KB\n"
          ]
        }
      ],
      "source": [
        "data2.info()"
      ]
    },
    {
      "cell_type": "code",
      "execution_count": 14,
      "metadata": {},
      "outputs": [
        {
          "name": "stdout",
          "output_type": "stream",
          "text": [
            "gender\n",
            "part_time_job\n",
            "diet_quality\n",
            "parental_education_level\n",
            "internet_quality\n",
            "extracurricular_participation\n"
          ]
        }
      ],
      "source": [
        "# Cek data\n",
        "for col in cat_col:\n",
        "    print(col)"
      ]
    },
    {
      "cell_type": "code",
      "execution_count": 15,
      "metadata": {},
      "outputs": [],
      "source": [
        "diet_quality = {'Poor': 0, 'Fair': 1, 'Good': 2}\n",
        "parental_education_level = {'High School': 0, 'Bachelor': 1, 'Master': 2}\n",
        "internet_quality = {'Poor': 0, 'Average': 1, 'Good': 2}"
      ]
    },
    {
      "cell_type": "code",
      "execution_count": 16,
      "metadata": {},
      "outputs": [],
      "source": [
        "data2['dq_e'] = data2['diet_quality'].map(diet_quality)\n",
        "data2['pel_e'] = data2['parental_education_level'].map(parental_education_level)\n",
        "data2['iq_e'] = data2['internet_quality'].map(internet_quality)"
      ]
    },
    {
      "cell_type": "code",
      "execution_count": 17,
      "metadata": {},
      "outputs": [],
      "source": [
        "dummies = pd.get_dummies(data[['gender', 'part_time_job', 'extracurricular_participation']], drop_first=True)"
      ]
    },
    {
      "cell_type": "code",
      "execution_count": 18,
      "metadata": {},
      "outputs": [
        {
          "data": {
            "text/html": [
              "<div>\n",
              "<style scoped>\n",
              "    .dataframe tbody tr th:only-of-type {\n",
              "        vertical-align: middle;\n",
              "    }\n",
              "\n",
              "    .dataframe tbody tr th {\n",
              "        vertical-align: top;\n",
              "    }\n",
              "\n",
              "    .dataframe thead th {\n",
              "        text-align: right;\n",
              "    }\n",
              "</style>\n",
              "<table border=\"1\" class=\"dataframe\">\n",
              "  <thead>\n",
              "    <tr style=\"text-align: right;\">\n",
              "      <th></th>\n",
              "      <th>gender_Male</th>\n",
              "      <th>gender_Other</th>\n",
              "      <th>part_time_job_Yes</th>\n",
              "      <th>extracurricular_participation_Yes</th>\n",
              "    </tr>\n",
              "  </thead>\n",
              "  <tbody>\n",
              "    <tr>\n",
              "      <th>0</th>\n",
              "      <td>False</td>\n",
              "      <td>False</td>\n",
              "      <td>False</td>\n",
              "      <td>True</td>\n",
              "    </tr>\n",
              "    <tr>\n",
              "      <th>1</th>\n",
              "      <td>False</td>\n",
              "      <td>False</td>\n",
              "      <td>False</td>\n",
              "      <td>False</td>\n",
              "    </tr>\n",
              "    <tr>\n",
              "      <th>2</th>\n",
              "      <td>True</td>\n",
              "      <td>False</td>\n",
              "      <td>False</td>\n",
              "      <td>False</td>\n",
              "    </tr>\n",
              "    <tr>\n",
              "      <th>3</th>\n",
              "      <td>False</td>\n",
              "      <td>False</td>\n",
              "      <td>False</td>\n",
              "      <td>True</td>\n",
              "    </tr>\n",
              "    <tr>\n",
              "      <th>4</th>\n",
              "      <td>False</td>\n",
              "      <td>False</td>\n",
              "      <td>False</td>\n",
              "      <td>False</td>\n",
              "    </tr>\n",
              "  </tbody>\n",
              "</table>\n",
              "</div>"
            ],
            "text/plain": [
              "   gender_Male  gender_Other  part_time_job_Yes  \\\n",
              "0        False         False              False   \n",
              "1        False         False              False   \n",
              "2         True         False              False   \n",
              "3        False         False              False   \n",
              "4        False         False              False   \n",
              "\n",
              "   extracurricular_participation_Yes  \n",
              "0                               True  \n",
              "1                              False  \n",
              "2                              False  \n",
              "3                               True  \n",
              "4                              False  "
            ]
          },
          "execution_count": 18,
          "metadata": {},
          "output_type": "execute_result"
        }
      ],
      "source": [
        "dummies.head()"
      ]
    },
    {
      "cell_type": "code",
      "execution_count": 19,
      "metadata": {},
      "outputs": [],
      "source": [
        "data3 = pd.concat([data2, dummies], axis=1)"
      ]
    },
    {
      "cell_type": "code",
      "execution_count": 20,
      "metadata": {},
      "outputs": [],
      "source": [
        "data3 = data3.drop(['gender', 'part_time_job', 'diet_quality', 'parental_education_level', 'internet_quality', 'extracurricular_participation'], axis=1)"
      ]
    },
    {
      "cell_type": "markdown",
      "metadata": {},
      "source": [
        "Correlation Heatmap"
      ]
    },
    {
      "cell_type": "code",
      "execution_count": 21,
      "metadata": {},
      "outputs": [
        {
          "data": {
            "image/png": "[encoded data removed]",
            "text/plain": [
              "<Figure size 864x720 with 2 Axes>"
            ]
          },
          "metadata": {
            "needs_background": "light"
          },
          "output_type": "display_data"
        }
      ],
      "source": [
        "corr = data3.corr()\n",
        "\n",
        "plt.figure(figsize=(12, 10))\n",
        "sns.heatmap(corr, annot=True, fmt=\".2f\", cmap=\"coolwarm\", square=True, cbar_kws={\"shrink\":0.8, }, linewidths=0.5, linecolor='gray')\n",
        "plt.xticks(rotation=45, ha='right')\n",
        "plt.yticks(rotation=0)\n",
        "plt.title(\"Heatmap Korelasi antar Variabel\", fontsize=14)\n",
        "plt.tight_layout()\n",
        "plt.show()"
      ]
    },
    {
      "cell_type": "code",
      "execution_count": 22,
      "metadata": {},
      "outputs": [
        {
          "data": {
            "text/html": [
              "<div>\n",
              "<style scoped>\n",
              "    .dataframe tbody tr th:only-of-type {\n",
              "        vertical-align: middle;\n",
              "    }\n",
              "\n",
              "    .dataframe tbody tr th {\n",
              "        vertical-align: top;\n",
              "    }\n",
              "\n",
              "    .dataframe thead th {\n",
              "        text-align: right;\n",
              "    }\n",
              "</style>\n",
              "<table border=\"1\" class=\"dataframe\">\n",
              "  <thead>\n",
              "    <tr style=\"text-align: right;\">\n",
              "      <th></th>\n",
              "      <th>age</th>\n",
              "      <th>study_hours_per_day</th>\n",
              "      <th>social_media_hours</th>\n",
              "      <th>netflix_hours</th>\n",
              "      <th>attendance_percentage</th>\n",
              "      <th>sleep_hours</th>\n",
              "      <th>exercise_frequency</th>\n",
              "      <th>mental_health_rating</th>\n",
              "      <th>exam_score</th>\n",
              "      <th>dq_e</th>\n",
              "      <th>pel_e</th>\n",
              "      <th>iq_e</th>\n",
              "      <th>gender_Male</th>\n",
              "      <th>gender_Other</th>\n",
              "      <th>part_time_job_Yes</th>\n",
              "      <th>extracurricular_participation_Yes</th>\n",
              "    </tr>\n",
              "  </thead>\n",
              "  <tbody>\n",
              "    <tr>\n",
              "      <th>0</th>\n",
              "      <td>23</td>\n",
              "      <td>0.0</td>\n",
              "      <td>1.2</td>\n",
              "      <td>1.1</td>\n",
              "      <td>85.0</td>\n",
              "      <td>8.0</td>\n",
              "      <td>6</td>\n",
              "      <td>8</td>\n",
              "      <td>56.2</td>\n",
              "      <td>1</td>\n",
              "      <td>2</td>\n",
              "      <td>1</td>\n",
              "      <td>False</td>\n",
              "      <td>False</td>\n",
              "      <td>False</td>\n",
              "      <td>True</td>\n",
              "    </tr>\n",
              "    <tr>\n",
              "      <th>1</th>\n",
              "      <td>20</td>\n",
              "      <td>6.9</td>\n",
              "      <td>2.8</td>\n",
              "      <td>2.3</td>\n",
              "      <td>97.3</td>\n",
              "      <td>4.6</td>\n",
              "      <td>6</td>\n",
              "      <td>8</td>\n",
              "      <td>100.0</td>\n",
              "      <td>2</td>\n",
              "      <td>0</td>\n",
              "      <td>1</td>\n",
              "      <td>False</td>\n",
              "      <td>False</td>\n",
              "      <td>False</td>\n",
              "      <td>False</td>\n",
              "    </tr>\n",
              "    <tr>\n",
              "      <th>2</th>\n",
              "      <td>21</td>\n",
              "      <td>1.4</td>\n",
              "      <td>3.1</td>\n",
              "      <td>1.3</td>\n",
              "      <td>94.8</td>\n",
              "      <td>8.0</td>\n",
              "      <td>1</td>\n",
              "      <td>1</td>\n",
              "      <td>34.3</td>\n",
              "      <td>0</td>\n",
              "      <td>0</td>\n",
              "      <td>0</td>\n",
              "      <td>True</td>\n",
              "      <td>False</td>\n",
              "      <td>False</td>\n",
              "      <td>False</td>\n",
              "    </tr>\n",
              "    <tr>\n",
              "      <th>3</th>\n",
              "      <td>23</td>\n",
              "      <td>1.0</td>\n",
              "      <td>3.9</td>\n",
              "      <td>1.0</td>\n",
              "      <td>71.0</td>\n",
              "      <td>9.2</td>\n",
              "      <td>4</td>\n",
              "      <td>1</td>\n",
              "      <td>26.8</td>\n",
              "      <td>0</td>\n",
              "      <td>2</td>\n",
              "      <td>2</td>\n",
              "      <td>False</td>\n",
              "      <td>False</td>\n",
              "      <td>False</td>\n",
              "      <td>True</td>\n",
              "    </tr>\n",
              "    <tr>\n",
              "      <th>4</th>\n",
              "      <td>19</td>\n",
              "      <td>5.0</td>\n",
              "      <td>4.4</td>\n",
              "      <td>0.5</td>\n",
              "      <td>90.9</td>\n",
              "      <td>4.9</td>\n",
              "      <td>3</td>\n",
              "      <td>1</td>\n",
              "      <td>66.4</td>\n",
              "      <td>1</td>\n",
              "      <td>2</td>\n",
              "      <td>2</td>\n",
              "      <td>False</td>\n",
              "      <td>False</td>\n",
              "      <td>False</td>\n",
              "      <td>False</td>\n",
              "    </tr>\n",
              "  </tbody>\n",
              "</table>\n",
              "</div>"
            ],
            "text/plain": [
              "   age  study_hours_per_day  social_media_hours  netflix_hours  \\\n",
              "0   23                  0.0                 1.2            1.1   \n",
              "1   20                  6.9                 2.8            2.3   \n",
              "2   21                  1.4                 3.1            1.3   \n",
              "3   23                  1.0                 3.9            1.0   \n",
              "4   19                  5.0                 4.4            0.5   \n",
              "\n",
              "   attendance_percentage  sleep_hours  exercise_frequency  \\\n",
              "0                   85.0          8.0                   6   \n",
              "1                   97.3          4.6                   6   \n",
              "2                   94.8          8.0                   1   \n",
              "3                   71.0          9.2                   4   \n",
              "4                   90.9          4.9                   3   \n",
              "\n",
              "   mental_health_rating  exam_score  dq_e  pel_e  iq_e  gender_Male  \\\n",
              "0                     8        56.2     1      2     1        False   \n",
              "1                     8       100.0     2      0     1        False   \n",
              "2                     1        34.3     0      0     0         True   \n",
              "3                     1        26.8     0      2     2        False   \n",
              "4                     1        66.4     1      2     2        False   \n",
              "\n",
              "   gender_Other  part_time_job_Yes  extracurricular_participation_Yes  \n",
              "0         False              False                               True  \n",
              "1         False              False                              False  \n",
              "2         False              False                              False  \n",
              "3         False              False                               True  \n",
              "4         False              False                              False  "
            ]
          },
          "execution_count": 22,
          "metadata": {},
          "output_type": "execute_result"
        }
      ],
      "source": [
        "data4 = data3\n",
        "data4.head()"
      ]
    },
    {
      "cell_type": "code",
      "execution_count": 23,
      "metadata": {},
      "outputs": [
        {
          "data": {
            "text/plain": [
              "((1000, 15), (1000,))"
            ]
          },
          "execution_count": 23,
          "metadata": {},
          "output_type": "execute_result"
        }
      ],
      "source": [
        "X = data4.drop('exam_score', axis=1)\n",
        "y = data4['exam_score']\n",
        "\n",
        "X.shape, y.shape"
      ]
    },
    {
      "cell_type": "code",
      "execution_count": 24,
      "metadata": {},
      "outputs": [
        {
          "data": {
            "text/plain": [
              "(1000, 15)"
            ]
          },
          "execution_count": 24,
          "metadata": {},
          "output_type": "execute_result"
        }
      ],
      "source": [
        "scaler = StandardScaler()\n",
        "X_scaled = scaler.fit_transform(X)\n",
        "X_scaled.shape"
      ]
    },
    {
      "cell_type": "code",
      "execution_count": 25,
      "metadata": {},
      "outputs": [
        {
          "data": {
            "text/plain": [
              "((800, 15), (200, 15), (800,), (200,))"
            ]
          },
          "execution_count": 25,
          "metadata": {},
          "output_type": "execute_result"
        }
      ],
      "source": [
        "X_train, X_test, y_train, y_test = train_test_split(X_scaled, y, test_size=0.2, random_state=42)\n",
        "X_train.shape, X_test.shape, y_train.shape, y_test.shape"
      ]
    },
    {
      "cell_type": "code",
      "execution_count": null,
      "metadata": {},
      "outputs": [],
      "source": []
    }
  ],
  "metadata": {
    "colab": {
      "provenance": []
    },
    "kernelspec": {
      "display_name": "Python 3",
      "name": "python3"
    },
    "language_info": {
      "codemirror_mode": {
        "name": "ipython",
        "version": 3
      },
      "file_extension": ".py",
      "mimetype": "text/x-python",
      "name": "python",
      "nbconvert_exporter": "python",
      "pygments_lexer": "ipython3",
      "version": "3.9.8"
    }
  },
  "nbformat": 4,
  "nbformat_minor": 0
}
